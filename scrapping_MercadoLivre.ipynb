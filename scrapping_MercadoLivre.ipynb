{
 "cells": [
  {
   "cell_type": "markdown",
   "metadata": {},
   "source": [
    "### Web Scrapping Mercado Livre"
   ]
  },
  {
   "cell_type": "code",
   "execution_count": null,
   "metadata": {},
   "outputs": [],
   "source": [
    "import requests as rq\n",
    "from bs4 import BeautifulSoup as bs\n",
    "#from selenium import webdriver\n",
    "#from selenium.webdriver.chrome.options import Options #pacote com opções para o navegador"
   ]
  },
  {
   "cell_type": "markdown",
   "metadata": {},
   "source": [
    "Input Produto"
   ]
  },
  {
   "cell_type": "code",
   "execution_count": null,
   "metadata": {},
   "outputs": [],
   "source": [
    "produto_nome = input('Qual produto você deseja pesquisar? ')"
   ]
  },
  {
   "cell_type": "markdown",
   "metadata": {},
   "source": [
    "Acessando Site"
   ]
  },
  {
   "cell_type": "code",
   "execution_count": null,
   "metadata": {},
   "outputs": [],
   "source": [
    "url_base='https://lista.mercadolivre.com.br/'\n",
    "response = rq.get(url_base + produto_nome)\n",
    "site = bs(response.text,'html.parser')\n",
    "produtos = site.find_all('div', attrs={'class','ui-search-result__wrapper'})"
   ]
  },
  {
   "cell_type": "markdown",
   "metadata": {},
   "source": [
    "Listando Produtos encontrados"
   ]
  },
  {
   "cell_type": "code",
   "execution_count": null,
   "metadata": {},
   "outputs": [],
   "source": [
    "lista_produtos=[]\n",
    "for produto in produtos:\n",
    "    titulo = produto.find('h2',attrs={'class','ui-search-item__title'})\n",
    "    link = produto.find('a',attrs={'class','ui-search-link'})\n",
    "    real = produto.find('span',attrs={'class',\"price-tag-fraction\"})\n",
    "    centavos = produto.find('span',attrs={'class','price-tag-cents'})\n",
    "    if centavos:\n",
    "        preco = real.text + ',' + centavos.text\n",
    "    else:\n",
    "        preco = real.text\n",
    "    lista_produtos.append([titulo.text, link['href'], preco])"
   ]
  },
  {
   "cell_type": "markdown",
   "metadata": {},
   "source": [
    "Organizando em um Data Frame"
   ]
  },
  {
   "cell_type": "code",
   "execution_count": null,
   "metadata": {},
   "outputs": [],
   "source": [
    "pd.DataFrame(lista_produtos, columns=('Produto','Link','Preço'))"
   ]
  }
 ],
 "metadata": {
  "kernelspec": {
   "display_name": "Python 3 (ipykernel)",
   "language": "python",
   "name": "python3"
  },
  "language_info": {
   "codemirror_mode": {
    "name": "ipython",
    "version": 3
   },
   "file_extension": ".py",
   "mimetype": "text/x-python",
   "name": "python",
   "nbconvert_exporter": "python",
   "pygments_lexer": "ipython3",
   "version": "3.9.7"
  }
 },
 "nbformat": 4,
 "nbformat_minor": 2
}
